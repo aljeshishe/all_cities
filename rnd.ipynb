{
 "cells": [
  {
   "cell_type": "code",
   "execution_count": 1,
   "metadata": {
    "collapsed": true,
    "pycharm": {
     "name": "#%%\n"
    }
   },
   "outputs": [],
   "source": [
    "import pandas as pd"
   ]
  },
  {
   "cell_type": "code",
   "execution_count": 2,
   "outputs": [
    {
     "name": "stdout",
     "output_type": "stream",
     "text": [
      "cities_file='cities1000.zip' countries_file='countryInfo.txt'\n"
     ]
    }
   ],
   "source": [
    "import wget\n",
    "cities_file = wget.download(\"http://download.geonames.org/export/dump/cities1000.zip\")\n",
    "countries_file = wget.download(\"http://download.geonames.org/export/dump/countryInfo.txt\")\n",
    "print(f\"{cities_file=} {countries_file=}\")"
   ],
   "metadata": {
    "collapsed": false,
    "pycharm": {
     "name": "#%%\n"
    }
   }
  },
  {
   "cell_type": "code",
   "execution_count": 3,
   "outputs": [
    {
     "data": {
      "text/plain": "        geonameid                 name            asciiname  \\\n0         3039154            El Tarter            El Tarter   \n1         3039163  Sant Julià de Lòria  Sant Julia de Loria   \n2         3039604       Pas de la Casa       Pas de la Casa   \n3         3039678               Ordino               Ordino   \n4         3040051         les Escaldes         les Escaldes   \n...           ...                  ...                  ...   \n140818     895269           Beitbridge           Beitbridge   \n140819     895308             Beatrice             Beatrice   \n140820     895417               Banket               Banket   \n140821    1085510              Epworth              Epworth   \n140822    1106542          Chitungwiza          Chitungwiza   \n\n                                           alternatenames  latitude  \\\n0                                    Ehl Tarter,Эл Тартер  42.57952   \n1       San Julia,San Julià,Sant Julia de Loria,Sant J...  42.46372   \n2                           Pas de la Kasa,Пас де ла Каса  42.54277   \n3       Ordino,ao er di nuo,orudino jiao qu,Ордино,オルデ...  42.55623   \n4       Ehskal'des-Ehndzhordani,Escaldes,Escaldes-Engo...  42.50729   \n...                                                   ...       ...   \n140818  Bajtbridz,Bajtbridzh,Beitbridge,Beitbridzas,Be... -22.21667   \n140819                                           Beatrice -18.25283   \n140820                             Banket,Banket Junction -17.38333   \n140821                                            Epworth -17.89000   \n140822  Chitungviza,Chitungwiza,Chytungviza,Citungviza... -18.01274   \n\n        longitude feature class feature code country code  cc2 admin1 code  \\\n0         1.65362             P          PPL           AD  NaN          02   \n1         1.49129             P         PPLA           AD  NaN          06   \n2         1.73361             P          PPL           AD  NaN          03   \n3         1.53319             P         PPLA           AD  NaN          05   \n4         1.53414             P         PPLA           AD  NaN          08   \n...           ...           ...          ...          ...  ...         ...   \n140818   30.00000             P          PPL           ZW  NaN          07   \n140819   30.84730             P          PPL           ZW  NaN          04   \n140820   30.40000             P          PPL           ZW  NaN          05   \n140821   31.14750             P         PPLX           ZW  NaN          10   \n140822   31.07555             P          PPL           ZW  NaN          10   \n\n       admin2 code admin3 code admin4 code  population  elevation   dem  \\\n0              NaN         NaN         NaN        1052        NaN  1721   \n1              NaN         NaN         NaN        8022        NaN   921   \n2              NaN         NaN         NaN        2363     2050.0  2106   \n3              NaN         NaN         NaN        3066        NaN  1296   \n4              NaN         NaN         NaN       15853        NaN  1033   \n...            ...         ...         ...         ...        ...   ...   \n140818         NaN         NaN         NaN       58100        NaN   461   \n140819         NaN         NaN         NaN        1647        NaN  1307   \n140820         NaN         NaN         NaN        9641        NaN  1277   \n140821         NaN         NaN         NaN      123250        NaN  1508   \n140822         NaN         NaN         NaN      371244        NaN  1435   \n\n              timezone modification date  \n0       Europe/Andorra        2012-11-03  \n1       Europe/Andorra        2013-11-23  \n2       Europe/Andorra        2008-06-09  \n3       Europe/Andorra        2018-10-26  \n4       Europe/Andorra        2008-10-15  \n...                ...               ...  \n140818   Africa/Harare        2022-10-07  \n140819   Africa/Harare        2018-05-09  \n140820   Africa/Harare        2013-03-12  \n140821   Africa/Harare        2012-01-19  \n140822   Africa/Harare        2022-10-05  \n\n[140823 rows x 19 columns]",
      "text/html": "<div>\n<style scoped>\n    .dataframe tbody tr th:only-of-type {\n        vertical-align: middle;\n    }\n\n    .dataframe tbody tr th {\n        vertical-align: top;\n    }\n\n    .dataframe thead th {\n        text-align: right;\n    }\n</style>\n<table border=\"1\" class=\"dataframe\">\n  <thead>\n    <tr style=\"text-align: right;\">\n      <th></th>\n      <th>geonameid</th>\n      <th>name</th>\n      <th>asciiname</th>\n      <th>alternatenames</th>\n      <th>latitude</th>\n      <th>longitude</th>\n      <th>feature class</th>\n      <th>feature code</th>\n      <th>country code</th>\n      <th>cc2</th>\n      <th>admin1 code</th>\n      <th>admin2 code</th>\n      <th>admin3 code</th>\n      <th>admin4 code</th>\n      <th>population</th>\n      <th>elevation</th>\n      <th>dem</th>\n      <th>timezone</th>\n      <th>modification date</th>\n    </tr>\n  </thead>\n  <tbody>\n    <tr>\n      <th>0</th>\n      <td>3039154</td>\n      <td>El Tarter</td>\n      <td>El Tarter</td>\n      <td>Ehl Tarter,Эл Тартер</td>\n      <td>42.57952</td>\n      <td>1.65362</td>\n      <td>P</td>\n      <td>PPL</td>\n      <td>AD</td>\n      <td>NaN</td>\n      <td>02</td>\n      <td>NaN</td>\n      <td>NaN</td>\n      <td>NaN</td>\n      <td>1052</td>\n      <td>NaN</td>\n      <td>1721</td>\n      <td>Europe/Andorra</td>\n      <td>2012-11-03</td>\n    </tr>\n    <tr>\n      <th>1</th>\n      <td>3039163</td>\n      <td>Sant Julià de Lòria</td>\n      <td>Sant Julia de Loria</td>\n      <td>San Julia,San Julià,Sant Julia de Loria,Sant J...</td>\n      <td>42.46372</td>\n      <td>1.49129</td>\n      <td>P</td>\n      <td>PPLA</td>\n      <td>AD</td>\n      <td>NaN</td>\n      <td>06</td>\n      <td>NaN</td>\n      <td>NaN</td>\n      <td>NaN</td>\n      <td>8022</td>\n      <td>NaN</td>\n      <td>921</td>\n      <td>Europe/Andorra</td>\n      <td>2013-11-23</td>\n    </tr>\n    <tr>\n      <th>2</th>\n      <td>3039604</td>\n      <td>Pas de la Casa</td>\n      <td>Pas de la Casa</td>\n      <td>Pas de la Kasa,Пас де ла Каса</td>\n      <td>42.54277</td>\n      <td>1.73361</td>\n      <td>P</td>\n      <td>PPL</td>\n      <td>AD</td>\n      <td>NaN</td>\n      <td>03</td>\n      <td>NaN</td>\n      <td>NaN</td>\n      <td>NaN</td>\n      <td>2363</td>\n      <td>2050.0</td>\n      <td>2106</td>\n      <td>Europe/Andorra</td>\n      <td>2008-06-09</td>\n    </tr>\n    <tr>\n      <th>3</th>\n      <td>3039678</td>\n      <td>Ordino</td>\n      <td>Ordino</td>\n      <td>Ordino,ao er di nuo,orudino jiao qu,Ордино,オルデ...</td>\n      <td>42.55623</td>\n      <td>1.53319</td>\n      <td>P</td>\n      <td>PPLA</td>\n      <td>AD</td>\n      <td>NaN</td>\n      <td>05</td>\n      <td>NaN</td>\n      <td>NaN</td>\n      <td>NaN</td>\n      <td>3066</td>\n      <td>NaN</td>\n      <td>1296</td>\n      <td>Europe/Andorra</td>\n      <td>2018-10-26</td>\n    </tr>\n    <tr>\n      <th>4</th>\n      <td>3040051</td>\n      <td>les Escaldes</td>\n      <td>les Escaldes</td>\n      <td>Ehskal'des-Ehndzhordani,Escaldes,Escaldes-Engo...</td>\n      <td>42.50729</td>\n      <td>1.53414</td>\n      <td>P</td>\n      <td>PPLA</td>\n      <td>AD</td>\n      <td>NaN</td>\n      <td>08</td>\n      <td>NaN</td>\n      <td>NaN</td>\n      <td>NaN</td>\n      <td>15853</td>\n      <td>NaN</td>\n      <td>1033</td>\n      <td>Europe/Andorra</td>\n      <td>2008-10-15</td>\n    </tr>\n    <tr>\n      <th>...</th>\n      <td>...</td>\n      <td>...</td>\n      <td>...</td>\n      <td>...</td>\n      <td>...</td>\n      <td>...</td>\n      <td>...</td>\n      <td>...</td>\n      <td>...</td>\n      <td>...</td>\n      <td>...</td>\n      <td>...</td>\n      <td>...</td>\n      <td>...</td>\n      <td>...</td>\n      <td>...</td>\n      <td>...</td>\n      <td>...</td>\n      <td>...</td>\n    </tr>\n    <tr>\n      <th>140818</th>\n      <td>895269</td>\n      <td>Beitbridge</td>\n      <td>Beitbridge</td>\n      <td>Bajtbridz,Bajtbridzh,Beitbridge,Beitbridzas,Be...</td>\n      <td>-22.21667</td>\n      <td>30.00000</td>\n      <td>P</td>\n      <td>PPL</td>\n      <td>ZW</td>\n      <td>NaN</td>\n      <td>07</td>\n      <td>NaN</td>\n      <td>NaN</td>\n      <td>NaN</td>\n      <td>58100</td>\n      <td>NaN</td>\n      <td>461</td>\n      <td>Africa/Harare</td>\n      <td>2022-10-07</td>\n    </tr>\n    <tr>\n      <th>140819</th>\n      <td>895308</td>\n      <td>Beatrice</td>\n      <td>Beatrice</td>\n      <td>Beatrice</td>\n      <td>-18.25283</td>\n      <td>30.84730</td>\n      <td>P</td>\n      <td>PPL</td>\n      <td>ZW</td>\n      <td>NaN</td>\n      <td>04</td>\n      <td>NaN</td>\n      <td>NaN</td>\n      <td>NaN</td>\n      <td>1647</td>\n      <td>NaN</td>\n      <td>1307</td>\n      <td>Africa/Harare</td>\n      <td>2018-05-09</td>\n    </tr>\n    <tr>\n      <th>140820</th>\n      <td>895417</td>\n      <td>Banket</td>\n      <td>Banket</td>\n      <td>Banket,Banket Junction</td>\n      <td>-17.38333</td>\n      <td>30.40000</td>\n      <td>P</td>\n      <td>PPL</td>\n      <td>ZW</td>\n      <td>NaN</td>\n      <td>05</td>\n      <td>NaN</td>\n      <td>NaN</td>\n      <td>NaN</td>\n      <td>9641</td>\n      <td>NaN</td>\n      <td>1277</td>\n      <td>Africa/Harare</td>\n      <td>2013-03-12</td>\n    </tr>\n    <tr>\n      <th>140821</th>\n      <td>1085510</td>\n      <td>Epworth</td>\n      <td>Epworth</td>\n      <td>Epworth</td>\n      <td>-17.89000</td>\n      <td>31.14750</td>\n      <td>P</td>\n      <td>PPLX</td>\n      <td>ZW</td>\n      <td>NaN</td>\n      <td>10</td>\n      <td>NaN</td>\n      <td>NaN</td>\n      <td>NaN</td>\n      <td>123250</td>\n      <td>NaN</td>\n      <td>1508</td>\n      <td>Africa/Harare</td>\n      <td>2012-01-19</td>\n    </tr>\n    <tr>\n      <th>140822</th>\n      <td>1106542</td>\n      <td>Chitungwiza</td>\n      <td>Chitungwiza</td>\n      <td>Chitungviza,Chitungwiza,Chytungviza,Citungviza...</td>\n      <td>-18.01274</td>\n      <td>31.07555</td>\n      <td>P</td>\n      <td>PPL</td>\n      <td>ZW</td>\n      <td>NaN</td>\n      <td>10</td>\n      <td>NaN</td>\n      <td>NaN</td>\n      <td>NaN</td>\n      <td>371244</td>\n      <td>NaN</td>\n      <td>1435</td>\n      <td>Africa/Harare</td>\n      <td>2022-10-05</td>\n    </tr>\n  </tbody>\n</table>\n<p>140823 rows × 19 columns</p>\n</div>"
     },
     "execution_count": 3,
     "metadata": {},
     "output_type": "execute_result"
    }
   ],
   "source": [
    "# pandas read compressed csv\n",
    "columns = [\"geonameid\", \"name\", \"asciiname\", \"alternatenames\", \"latitude\", \"longitude\", \"feature class\", \"feature code\", \"country code\", \"cc2\", \"admin1 code\", \"admin2 code\", \"admin3 code\", \"admin4 code\", \"population\", \"elevation\", \"dem\", \"timezone\", \"modification date\"]\n",
    "\n",
    "df = pd.read_csv(cities_file, sep='\\t', names=columns, low_memory=False)\n",
    "df"
   ],
   "metadata": {
    "collapsed": false,
    "pycharm": {
     "name": "#%%\n"
    }
   }
  },
  {
   "cell_type": "code",
   "execution_count": 4,
   "outputs": [
    {
     "data": {
      "text/plain": "        geonameid                 name            asciiname  latitude  \\\n0         3039154            El Tarter            El Tarter  42.57952   \n1         3039163  Sant Julià de Lòria  Sant Julia de Loria  42.46372   \n2         3039604       Pas de la Casa       Pas de la Casa  42.54277   \n3         3039678               Ordino               Ordino  42.55623   \n4         3040051         les Escaldes         les Escaldes  42.50729   \n...           ...                  ...                  ...       ...   \n140818     895269           Beitbridge           Beitbridge -22.21667   \n140819     895308             Beatrice             Beatrice -18.25283   \n140820     895417               Banket               Banket -17.38333   \n140821    1085510              Epworth              Epworth -17.89000   \n140822    1106542          Chitungwiza          Chitungwiza -18.01274   \n\n        longitude country code  population  \n0         1.65362           AD        1052  \n1         1.49129           AD        8022  \n2         1.73361           AD        2363  \n3         1.53319           AD        3066  \n4         1.53414           AD       15853  \n...           ...          ...         ...  \n140818   30.00000           ZW       58100  \n140819   30.84730           ZW        1647  \n140820   30.40000           ZW        9641  \n140821   31.14750           ZW      123250  \n140822   31.07555           ZW      371244  \n\n[140823 rows x 7 columns]",
      "text/html": "<div>\n<style scoped>\n    .dataframe tbody tr th:only-of-type {\n        vertical-align: middle;\n    }\n\n    .dataframe tbody tr th {\n        vertical-align: top;\n    }\n\n    .dataframe thead th {\n        text-align: right;\n    }\n</style>\n<table border=\"1\" class=\"dataframe\">\n  <thead>\n    <tr style=\"text-align: right;\">\n      <th></th>\n      <th>geonameid</th>\n      <th>name</th>\n      <th>asciiname</th>\n      <th>latitude</th>\n      <th>longitude</th>\n      <th>country code</th>\n      <th>population</th>\n    </tr>\n  </thead>\n  <tbody>\n    <tr>\n      <th>0</th>\n      <td>3039154</td>\n      <td>El Tarter</td>\n      <td>El Tarter</td>\n      <td>42.57952</td>\n      <td>1.65362</td>\n      <td>AD</td>\n      <td>1052</td>\n    </tr>\n    <tr>\n      <th>1</th>\n      <td>3039163</td>\n      <td>Sant Julià de Lòria</td>\n      <td>Sant Julia de Loria</td>\n      <td>42.46372</td>\n      <td>1.49129</td>\n      <td>AD</td>\n      <td>8022</td>\n    </tr>\n    <tr>\n      <th>2</th>\n      <td>3039604</td>\n      <td>Pas de la Casa</td>\n      <td>Pas de la Casa</td>\n      <td>42.54277</td>\n      <td>1.73361</td>\n      <td>AD</td>\n      <td>2363</td>\n    </tr>\n    <tr>\n      <th>3</th>\n      <td>3039678</td>\n      <td>Ordino</td>\n      <td>Ordino</td>\n      <td>42.55623</td>\n      <td>1.53319</td>\n      <td>AD</td>\n      <td>3066</td>\n    </tr>\n    <tr>\n      <th>4</th>\n      <td>3040051</td>\n      <td>les Escaldes</td>\n      <td>les Escaldes</td>\n      <td>42.50729</td>\n      <td>1.53414</td>\n      <td>AD</td>\n      <td>15853</td>\n    </tr>\n    <tr>\n      <th>...</th>\n      <td>...</td>\n      <td>...</td>\n      <td>...</td>\n      <td>...</td>\n      <td>...</td>\n      <td>...</td>\n      <td>...</td>\n    </tr>\n    <tr>\n      <th>140818</th>\n      <td>895269</td>\n      <td>Beitbridge</td>\n      <td>Beitbridge</td>\n      <td>-22.21667</td>\n      <td>30.00000</td>\n      <td>ZW</td>\n      <td>58100</td>\n    </tr>\n    <tr>\n      <th>140819</th>\n      <td>895308</td>\n      <td>Beatrice</td>\n      <td>Beatrice</td>\n      <td>-18.25283</td>\n      <td>30.84730</td>\n      <td>ZW</td>\n      <td>1647</td>\n    </tr>\n    <tr>\n      <th>140820</th>\n      <td>895417</td>\n      <td>Banket</td>\n      <td>Banket</td>\n      <td>-17.38333</td>\n      <td>30.40000</td>\n      <td>ZW</td>\n      <td>9641</td>\n    </tr>\n    <tr>\n      <th>140821</th>\n      <td>1085510</td>\n      <td>Epworth</td>\n      <td>Epworth</td>\n      <td>-17.89000</td>\n      <td>31.14750</td>\n      <td>ZW</td>\n      <td>123250</td>\n    </tr>\n    <tr>\n      <th>140822</th>\n      <td>1106542</td>\n      <td>Chitungwiza</td>\n      <td>Chitungwiza</td>\n      <td>-18.01274</td>\n      <td>31.07555</td>\n      <td>ZW</td>\n      <td>371244</td>\n    </tr>\n  </tbody>\n</table>\n<p>140823 rows × 7 columns</p>\n</div>"
     },
     "execution_count": 4,
     "metadata": {},
     "output_type": "execute_result"
    }
   ],
   "source": [
    "df1 = df[[\"geonameid\", \"name\", \"asciiname\", \"latitude\", \"longitude\", \"country code\", \"population\"]]\n",
    "df1"
   ],
   "metadata": {
    "collapsed": false,
    "pycharm": {
     "name": "#%%\n"
    }
   }
  },
  {
   "cell_type": "code",
   "execution_count": 5,
   "outputs": [],
   "source": [
    "with open(countries_file) as fp:\n",
    "    new_content = \"\\n\".join(line for line in fp if not line.startswith(\"#\"))\n",
    "with open(countries_file, \"w\") as fp:\n",
    "    fp.write(\"ISO\tISO3\tISO-Numeric\tfips\tCountry\tCapital\tArea(in sq km)\tPopulation\tContinent\ttld\tCurrencyCode\tCurrencyName\tPhone\tPostal Code Format\tPostal Code Regex\tLanguages\tgeonameid\tneighbours\tEquivalentFipsCode\\n\")\n",
    "    fp.write(new_content)\n"
   ],
   "metadata": {
    "collapsed": false,
    "pycharm": {
     "name": "#%%\n"
    }
   }
  },
  {
   "cell_type": "code",
   "execution_count": 6,
   "outputs": [
    {
     "data": {
      "text/plain": "    ISO ISO3  ISO-Numeric fips                Country           Capital  \\\n0    AD  AND           20   AN                Andorra  Andorra la Vella   \n1    AE  ARE          784   AE   United Arab Emirates         Abu Dhabi   \n2    AF  AFG            4   AF            Afghanistan             Kabul   \n3    AG  ATG           28   AC    Antigua and Barbuda        St. John's   \n4    AI  AIA          660   AV               Anguilla        The Valley   \n..   ..  ...          ...  ...                    ...               ...   \n247  ZA  ZAF          710   SF           South Africa          Pretoria   \n248  ZM  ZMB          894   ZA                 Zambia            Lusaka   \n249  ZW  ZWE          716   ZI               Zimbabwe            Harare   \n250  CS  SCG          891   YI  Serbia and Montenegro          Belgrade   \n251  AN  ANT          530   NT   Netherlands Antilles        Willemstad   \n\n     Area(in sq km)  Population Continent  tld CurrencyCode CurrencyName  \\\n0             468.0       77006        EU  .ad          EUR         Euro   \n1           82880.0     9630959        AS  .ae          AED       Dirham   \n2          647500.0    37172386        AS  .af          AFN      Afghani   \n3             443.0       96286       NaN  .ag          XCD       Dollar   \n4             102.0       13254       NaN  .ai          XCD       Dollar   \n..              ...         ...       ...  ...          ...          ...   \n247       1219912.0    57779622        AF  .za          ZAR         Rand   \n248        752614.0    17351822        AF  .zm          ZMW       Kwacha   \n249        390580.0    14439018        AF  .zw          ZWL       Dollar   \n250        102350.0    10829175        EU  .cs          RSD        Dinar   \n251           960.0      300000       NaN  .an          ANG      Guilder   \n\n      Phone Postal Code Format Postal Code Regex  \\\n0       376              AD###  ^(?:AD)*(\\d{3})$   \n1       971                NaN               NaN   \n2        93                NaN               NaN   \n3    +1-268                NaN               NaN   \n4    +1-264                NaN               NaN   \n..      ...                ...               ...   \n247      27               ####         ^(\\d{4})$   \n248     260              #####         ^(\\d{5})$   \n249     263                NaN               NaN   \n250     381              #####         ^(\\d{5})$   \n251     599                NaN               NaN   \n\n                                Languages  geonameid            neighbours  \\\n0                                      ca    3041565                 ES,FR   \n1                       ar-AE,fa,en,hi,ur     290557                 SA,OM   \n2                       fa-AF,ps,uz-AF,tk    1149361     TM,CN,IR,TJ,PK,UZ   \n3                                   en-AG    3576396                   NaN   \n4                                   en-AI    3573511                   NaN   \n..                                    ...        ...                   ...   \n247  zu,xh,af,nso,en-ZA,tn,st,ts,ss,ve,nr     953987     ZW,SZ,MZ,BW,NA,LS   \n248          en-ZM,bem,loz,lun,lue,ny,toi     895949  ZW,TZ,MZ,CD,NA,MW,AO   \n249                        en-ZW,sn,nr,nd     878675           ZA,MZ,BW,ZM   \n250                           cu,hu,sq,sr    8505033  AL,HU,MK,RO,HR,BA,BG   \n251                           nl-AN,en,es    8505032                    GP   \n\n    EquivalentFipsCode  \n0                  NaN  \n1                  NaN  \n2                  NaN  \n3                  NaN  \n4                  NaN  \n..                 ...  \n247                NaN  \n248                NaN  \n249                NaN  \n250                NaN  \n251                NaN  \n\n[252 rows x 19 columns]",
      "text/html": "<div>\n<style scoped>\n    .dataframe tbody tr th:only-of-type {\n        vertical-align: middle;\n    }\n\n    .dataframe tbody tr th {\n        vertical-align: top;\n    }\n\n    .dataframe thead th {\n        text-align: right;\n    }\n</style>\n<table border=\"1\" class=\"dataframe\">\n  <thead>\n    <tr style=\"text-align: right;\">\n      <th></th>\n      <th>ISO</th>\n      <th>ISO3</th>\n      <th>ISO-Numeric</th>\n      <th>fips</th>\n      <th>Country</th>\n      <th>Capital</th>\n      <th>Area(in sq km)</th>\n      <th>Population</th>\n      <th>Continent</th>\n      <th>tld</th>\n      <th>CurrencyCode</th>\n      <th>CurrencyName</th>\n      <th>Phone</th>\n      <th>Postal Code Format</th>\n      <th>Postal Code Regex</th>\n      <th>Languages</th>\n      <th>geonameid</th>\n      <th>neighbours</th>\n      <th>EquivalentFipsCode</th>\n    </tr>\n  </thead>\n  <tbody>\n    <tr>\n      <th>0</th>\n      <td>AD</td>\n      <td>AND</td>\n      <td>20</td>\n      <td>AN</td>\n      <td>Andorra</td>\n      <td>Andorra la Vella</td>\n      <td>468.0</td>\n      <td>77006</td>\n      <td>EU</td>\n      <td>.ad</td>\n      <td>EUR</td>\n      <td>Euro</td>\n      <td>376</td>\n      <td>AD###</td>\n      <td>^(?:AD)*(\\d{3})$</td>\n      <td>ca</td>\n      <td>3041565</td>\n      <td>ES,FR</td>\n      <td>NaN</td>\n    </tr>\n    <tr>\n      <th>1</th>\n      <td>AE</td>\n      <td>ARE</td>\n      <td>784</td>\n      <td>AE</td>\n      <td>United Arab Emirates</td>\n      <td>Abu Dhabi</td>\n      <td>82880.0</td>\n      <td>9630959</td>\n      <td>AS</td>\n      <td>.ae</td>\n      <td>AED</td>\n      <td>Dirham</td>\n      <td>971</td>\n      <td>NaN</td>\n      <td>NaN</td>\n      <td>ar-AE,fa,en,hi,ur</td>\n      <td>290557</td>\n      <td>SA,OM</td>\n      <td>NaN</td>\n    </tr>\n    <tr>\n      <th>2</th>\n      <td>AF</td>\n      <td>AFG</td>\n      <td>4</td>\n      <td>AF</td>\n      <td>Afghanistan</td>\n      <td>Kabul</td>\n      <td>647500.0</td>\n      <td>37172386</td>\n      <td>AS</td>\n      <td>.af</td>\n      <td>AFN</td>\n      <td>Afghani</td>\n      <td>93</td>\n      <td>NaN</td>\n      <td>NaN</td>\n      <td>fa-AF,ps,uz-AF,tk</td>\n      <td>1149361</td>\n      <td>TM,CN,IR,TJ,PK,UZ</td>\n      <td>NaN</td>\n    </tr>\n    <tr>\n      <th>3</th>\n      <td>AG</td>\n      <td>ATG</td>\n      <td>28</td>\n      <td>AC</td>\n      <td>Antigua and Barbuda</td>\n      <td>St. John's</td>\n      <td>443.0</td>\n      <td>96286</td>\n      <td>NaN</td>\n      <td>.ag</td>\n      <td>XCD</td>\n      <td>Dollar</td>\n      <td>+1-268</td>\n      <td>NaN</td>\n      <td>NaN</td>\n      <td>en-AG</td>\n      <td>3576396</td>\n      <td>NaN</td>\n      <td>NaN</td>\n    </tr>\n    <tr>\n      <th>4</th>\n      <td>AI</td>\n      <td>AIA</td>\n      <td>660</td>\n      <td>AV</td>\n      <td>Anguilla</td>\n      <td>The Valley</td>\n      <td>102.0</td>\n      <td>13254</td>\n      <td>NaN</td>\n      <td>.ai</td>\n      <td>XCD</td>\n      <td>Dollar</td>\n      <td>+1-264</td>\n      <td>NaN</td>\n      <td>NaN</td>\n      <td>en-AI</td>\n      <td>3573511</td>\n      <td>NaN</td>\n      <td>NaN</td>\n    </tr>\n    <tr>\n      <th>...</th>\n      <td>...</td>\n      <td>...</td>\n      <td>...</td>\n      <td>...</td>\n      <td>...</td>\n      <td>...</td>\n      <td>...</td>\n      <td>...</td>\n      <td>...</td>\n      <td>...</td>\n      <td>...</td>\n      <td>...</td>\n      <td>...</td>\n      <td>...</td>\n      <td>...</td>\n      <td>...</td>\n      <td>...</td>\n      <td>...</td>\n      <td>...</td>\n    </tr>\n    <tr>\n      <th>247</th>\n      <td>ZA</td>\n      <td>ZAF</td>\n      <td>710</td>\n      <td>SF</td>\n      <td>South Africa</td>\n      <td>Pretoria</td>\n      <td>1219912.0</td>\n      <td>57779622</td>\n      <td>AF</td>\n      <td>.za</td>\n      <td>ZAR</td>\n      <td>Rand</td>\n      <td>27</td>\n      <td>####</td>\n      <td>^(\\d{4})$</td>\n      <td>zu,xh,af,nso,en-ZA,tn,st,ts,ss,ve,nr</td>\n      <td>953987</td>\n      <td>ZW,SZ,MZ,BW,NA,LS</td>\n      <td>NaN</td>\n    </tr>\n    <tr>\n      <th>248</th>\n      <td>ZM</td>\n      <td>ZMB</td>\n      <td>894</td>\n      <td>ZA</td>\n      <td>Zambia</td>\n      <td>Lusaka</td>\n      <td>752614.0</td>\n      <td>17351822</td>\n      <td>AF</td>\n      <td>.zm</td>\n      <td>ZMW</td>\n      <td>Kwacha</td>\n      <td>260</td>\n      <td>#####</td>\n      <td>^(\\d{5})$</td>\n      <td>en-ZM,bem,loz,lun,lue,ny,toi</td>\n      <td>895949</td>\n      <td>ZW,TZ,MZ,CD,NA,MW,AO</td>\n      <td>NaN</td>\n    </tr>\n    <tr>\n      <th>249</th>\n      <td>ZW</td>\n      <td>ZWE</td>\n      <td>716</td>\n      <td>ZI</td>\n      <td>Zimbabwe</td>\n      <td>Harare</td>\n      <td>390580.0</td>\n      <td>14439018</td>\n      <td>AF</td>\n      <td>.zw</td>\n      <td>ZWL</td>\n      <td>Dollar</td>\n      <td>263</td>\n      <td>NaN</td>\n      <td>NaN</td>\n      <td>en-ZW,sn,nr,nd</td>\n      <td>878675</td>\n      <td>ZA,MZ,BW,ZM</td>\n      <td>NaN</td>\n    </tr>\n    <tr>\n      <th>250</th>\n      <td>CS</td>\n      <td>SCG</td>\n      <td>891</td>\n      <td>YI</td>\n      <td>Serbia and Montenegro</td>\n      <td>Belgrade</td>\n      <td>102350.0</td>\n      <td>10829175</td>\n      <td>EU</td>\n      <td>.cs</td>\n      <td>RSD</td>\n      <td>Dinar</td>\n      <td>381</td>\n      <td>#####</td>\n      <td>^(\\d{5})$</td>\n      <td>cu,hu,sq,sr</td>\n      <td>8505033</td>\n      <td>AL,HU,MK,RO,HR,BA,BG</td>\n      <td>NaN</td>\n    </tr>\n    <tr>\n      <th>251</th>\n      <td>AN</td>\n      <td>ANT</td>\n      <td>530</td>\n      <td>NT</td>\n      <td>Netherlands Antilles</td>\n      <td>Willemstad</td>\n      <td>960.0</td>\n      <td>300000</td>\n      <td>NaN</td>\n      <td>.an</td>\n      <td>ANG</td>\n      <td>Guilder</td>\n      <td>599</td>\n      <td>NaN</td>\n      <td>NaN</td>\n      <td>nl-AN,en,es</td>\n      <td>8505032</td>\n      <td>GP</td>\n      <td>NaN</td>\n    </tr>\n  </tbody>\n</table>\n<p>252 rows × 19 columns</p>\n</div>"
     },
     "execution_count": 6,
     "metadata": {},
     "output_type": "execute_result"
    }
   ],
   "source": [
    "df_country = pd.read_csv(countries_file, sep='\\t')\n",
    "df_country"
   ],
   "metadata": {
    "collapsed": false,
    "pycharm": {
     "name": "#%%\n"
    }
   }
  },
  {
   "cell_type": "code",
   "execution_count": 7,
   "outputs": [
    {
     "data": {
      "text/plain": "        geonameid                 name            asciiname  latitude  \\\n0         3039154            El Tarter            El Tarter  42.57952   \n1         3039163  Sant Julià de Lòria  Sant Julia de Loria  42.46372   \n2         3039604       Pas de la Casa       Pas de la Casa  42.54277   \n3         3039678               Ordino               Ordino  42.55623   \n4         3040051         les Escaldes         les Escaldes  42.50729   \n...           ...                  ...                  ...       ...   \n140818     895269           Beitbridge           Beitbridge -22.21667   \n140819     895308             Beatrice             Beatrice -18.25283   \n140820     895417               Banket               Banket -17.38333   \n140821    1085510              Epworth              Epworth -17.89000   \n140822    1106542          Chitungwiza          Chitungwiza -18.01274   \n\n        longitude  population   Country  \n0         1.65362        1052   Andorra  \n1         1.49129        8022   Andorra  \n2         1.73361        2363   Andorra  \n3         1.53319        3066   Andorra  \n4         1.53414       15853   Andorra  \n...           ...         ...       ...  \n140818   30.00000       58100  Zimbabwe  \n140819   30.84730        1647  Zimbabwe  \n140820   30.40000        9641  Zimbabwe  \n140821   31.14750      123250  Zimbabwe  \n140822   31.07555      371244  Zimbabwe  \n\n[140823 rows x 7 columns]",
      "text/html": "<div>\n<style scoped>\n    .dataframe tbody tr th:only-of-type {\n        vertical-align: middle;\n    }\n\n    .dataframe tbody tr th {\n        vertical-align: top;\n    }\n\n    .dataframe thead th {\n        text-align: right;\n    }\n</style>\n<table border=\"1\" class=\"dataframe\">\n  <thead>\n    <tr style=\"text-align: right;\">\n      <th></th>\n      <th>geonameid</th>\n      <th>name</th>\n      <th>asciiname</th>\n      <th>latitude</th>\n      <th>longitude</th>\n      <th>population</th>\n      <th>Country</th>\n    </tr>\n  </thead>\n  <tbody>\n    <tr>\n      <th>0</th>\n      <td>3039154</td>\n      <td>El Tarter</td>\n      <td>El Tarter</td>\n      <td>42.57952</td>\n      <td>1.65362</td>\n      <td>1052</td>\n      <td>Andorra</td>\n    </tr>\n    <tr>\n      <th>1</th>\n      <td>3039163</td>\n      <td>Sant Julià de Lòria</td>\n      <td>Sant Julia de Loria</td>\n      <td>42.46372</td>\n      <td>1.49129</td>\n      <td>8022</td>\n      <td>Andorra</td>\n    </tr>\n    <tr>\n      <th>2</th>\n      <td>3039604</td>\n      <td>Pas de la Casa</td>\n      <td>Pas de la Casa</td>\n      <td>42.54277</td>\n      <td>1.73361</td>\n      <td>2363</td>\n      <td>Andorra</td>\n    </tr>\n    <tr>\n      <th>3</th>\n      <td>3039678</td>\n      <td>Ordino</td>\n      <td>Ordino</td>\n      <td>42.55623</td>\n      <td>1.53319</td>\n      <td>3066</td>\n      <td>Andorra</td>\n    </tr>\n    <tr>\n      <th>4</th>\n      <td>3040051</td>\n      <td>les Escaldes</td>\n      <td>les Escaldes</td>\n      <td>42.50729</td>\n      <td>1.53414</td>\n      <td>15853</td>\n      <td>Andorra</td>\n    </tr>\n    <tr>\n      <th>...</th>\n      <td>...</td>\n      <td>...</td>\n      <td>...</td>\n      <td>...</td>\n      <td>...</td>\n      <td>...</td>\n      <td>...</td>\n    </tr>\n    <tr>\n      <th>140818</th>\n      <td>895269</td>\n      <td>Beitbridge</td>\n      <td>Beitbridge</td>\n      <td>-22.21667</td>\n      <td>30.00000</td>\n      <td>58100</td>\n      <td>Zimbabwe</td>\n    </tr>\n    <tr>\n      <th>140819</th>\n      <td>895308</td>\n      <td>Beatrice</td>\n      <td>Beatrice</td>\n      <td>-18.25283</td>\n      <td>30.84730</td>\n      <td>1647</td>\n      <td>Zimbabwe</td>\n    </tr>\n    <tr>\n      <th>140820</th>\n      <td>895417</td>\n      <td>Banket</td>\n      <td>Banket</td>\n      <td>-17.38333</td>\n      <td>30.40000</td>\n      <td>9641</td>\n      <td>Zimbabwe</td>\n    </tr>\n    <tr>\n      <th>140821</th>\n      <td>1085510</td>\n      <td>Epworth</td>\n      <td>Epworth</td>\n      <td>-17.89000</td>\n      <td>31.14750</td>\n      <td>123250</td>\n      <td>Zimbabwe</td>\n    </tr>\n    <tr>\n      <th>140822</th>\n      <td>1106542</td>\n      <td>Chitungwiza</td>\n      <td>Chitungwiza</td>\n      <td>-18.01274</td>\n      <td>31.07555</td>\n      <td>371244</td>\n      <td>Zimbabwe</td>\n    </tr>\n  </tbody>\n</table>\n<p>140823 rows × 7 columns</p>\n</div>"
     },
     "execution_count": 7,
     "metadata": {},
     "output_type": "execute_result"
    }
   ],
   "source": [
    "df_merged = pd.merge(df1, df_country[[\"ISO\", \"Country\"]], left_on=\"country code\", right_on=\"ISO\", how=\"inner\", indicator=True)\n",
    "assert len(df_merged[df_merged[\"_merge\"] != \"both\"]) == 0\n",
    "df_merged.drop(columns=[\"_merge\", \"ISO\", \"country code\"], inplace=True)\n",
    "df_merged"
   ],
   "metadata": {
    "collapsed": false,
    "pycharm": {
     "name": "#%%\n"
    }
   }
  },
  {
   "cell_type": "code",
   "execution_count": 8,
   "outputs": [],
   "source": [
    "df_merged.to_csv(\"cities500_merged.csv\", index=False)"
   ],
   "metadata": {
    "collapsed": false,
    "pycharm": {
     "name": "#%%\n"
    }
   }
  }
 ],
 "metadata": {
  "kernelspec": {
   "display_name": "Python 3",
   "language": "python",
   "name": "python3"
  },
  "language_info": {
   "codemirror_mode": {
    "name": "ipython",
    "version": 2
   },
   "file_extension": ".py",
   "mimetype": "text/x-python",
   "name": "python",
   "nbconvert_exporter": "python",
   "pygments_lexer": "ipython2",
   "version": "2.7.6"
  }
 },
 "nbformat": 4,
 "nbformat_minor": 0
}